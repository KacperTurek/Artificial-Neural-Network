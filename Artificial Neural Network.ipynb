{
 "cells": [
  {
   "cell_type": "markdown",
   "metadata": {},
   "source": [
    "# Importing the necessary packages.\n",
    "Make sure you have all of them installed."
   ]
  },
  {
   "cell_type": "code",
   "execution_count": 1,
   "metadata": {},
   "outputs": [
    {
     "name": "stderr",
     "output_type": "stream",
     "text": [
      "C:\\Users\\Kacper\\Anaconda3\\lib\\site-packages\\h5py\\__init__.py:36: FutureWarning: Conversion of the second argument of issubdtype from `float` to `np.floating` is deprecated. In future, it will be treated as `np.float64 == np.dtype(float).type`.\n",
      "  from ._conv import register_converters as _register_converters\n",
      "Using TensorFlow backend.\n"
     ]
    }
   ],
   "source": [
    "import numpy as np\n",
    "import matplotlib.pyplot as plt\n",
    "import pandas as pd\n",
    "from sklearn.preprocessing import LabelEncoder, OneHotEncoder\n",
    "from sklearn.model_selection import train_test_split\n",
    "from sklearn.preprocessing import StandardScaler\n",
    "import keras\n",
    "from keras.models import Sequential\n",
    "from keras.layers import Dense\n",
    "from sklearn.metrics import confusion_matrix, accuracy_score"
   ]
  },
  {
   "cell_type": "markdown",
   "metadata": {},
   "source": [
    "# Importing the dataset."
   ]
  },
  {
   "cell_type": "code",
   "execution_count": 2,
   "metadata": {},
   "outputs": [],
   "source": [
    "dataset = pd.read_csv('Churn_Modelling.csv')\n",
    "X = dataset.iloc[:, 3:13].values\n",
    "y = dataset.iloc[:, 13].values"
   ]
  },
  {
   "cell_type": "markdown",
   "metadata": {},
   "source": [
    "# Encoding categorical data."
   ]
  },
  {
   "cell_type": "code",
   "execution_count": 3,
   "metadata": {},
   "outputs": [],
   "source": [
    "labelencoder_X_1 = LabelEncoder()\n",
    "X[:, 1] = labelencoder_X_1.fit_transform(X[:, 1])\n",
    "labelencoder_X_2 = LabelEncoder()\n",
    "X[:, 2] = labelencoder_X_2.fit_transform(X[:, 2])\n",
    "onehotencoder = OneHotEncoder(categorical_features = [1])\n",
    "X = onehotencoder.fit_transform(X).toarray()\n",
    "X = X[:, 1:]"
   ]
  },
  {
   "cell_type": "markdown",
   "metadata": {},
   "source": [
    "# Splitting the dataset into the Training set and Test set."
   ]
  },
  {
   "cell_type": "code",
   "execution_count": 4,
   "metadata": {},
   "outputs": [],
   "source": [
    "X_train, X_test, y_train, y_test = train_test_split(X, y, test_size = 0.2, random_state = 0)"
   ]
  },
  {
   "cell_type": "markdown",
   "metadata": {},
   "source": [
    "# Feature Scaling."
   ]
  },
  {
   "cell_type": "code",
   "execution_count": 5,
   "metadata": {},
   "outputs": [],
   "source": [
    "sc = StandardScaler()\n",
    "X_train = sc.fit_transform(X_train)\n",
    "X_test = sc.transform(X_test)"
   ]
  },
  {
   "cell_type": "markdown",
   "metadata": {},
   "source": [
    "# Initialising the ANN."
   ]
  },
  {
   "cell_type": "code",
   "execution_count": 6,
   "metadata": {},
   "outputs": [],
   "source": [
    "classifier = Sequential()"
   ]
  },
  {
   "cell_type": "markdown",
   "metadata": {},
   "source": [
    "# Adding the input layer, hidden layers and output layer."
   ]
  },
  {
   "cell_type": "code",
   "execution_count": 7,
   "metadata": {},
   "outputs": [
    {
     "name": "stderr",
     "output_type": "stream",
     "text": [
      "C:\\Users\\Kacper\\Anaconda3\\lib\\site-packages\\ipykernel_launcher.py:1: UserWarning: Update your `Dense` call to the Keras 2 API: `Dense(activation=\"relu\", input_dim=11, units=6, kernel_initializer=\"uniform\")`\n",
      "  \"\"\"Entry point for launching an IPython kernel.\n",
      "C:\\Users\\Kacper\\Anaconda3\\lib\\site-packages\\ipykernel_launcher.py:2: UserWarning: Update your `Dense` call to the Keras 2 API: `Dense(activation=\"relu\", units=6, kernel_initializer=\"uniform\")`\n",
      "  \n",
      "C:\\Users\\Kacper\\Anaconda3\\lib\\site-packages\\ipykernel_launcher.py:3: UserWarning: Update your `Dense` call to the Keras 2 API: `Dense(activation=\"sigmoid\", units=1, kernel_initializer=\"uniform\")`\n",
      "  This is separate from the ipykernel package so we can avoid doing imports until\n"
     ]
    }
   ],
   "source": [
    "classifier.add(Dense(output_dim = 6, init = 'uniform', activation = 'relu', input_dim = 11))\n",
    "classifier.add(Dense(output_dim = 6, init = 'uniform', activation = 'relu'))\n",
    "classifier.add(Dense(output_dim = 1, init = 'uniform', activation = 'sigmoid'))"
   ]
  },
  {
   "cell_type": "markdown",
   "metadata": {},
   "source": [
    "# Compiling and fitting the ANN to the Training set."
   ]
  },
  {
   "cell_type": "code",
   "execution_count": 8,
   "metadata": {},
   "outputs": [
    {
     "name": "stderr",
     "output_type": "stream",
     "text": [
      "C:\\Users\\Kacper\\Anaconda3\\lib\\site-packages\\ipykernel_launcher.py:2: UserWarning: The `nb_epoch` argument in `fit` has been renamed `epochs`.\n",
      "  \n"
     ]
    },
    {
     "name": "stdout",
     "output_type": "stream",
     "text": [
      "Epoch 1/100\n",
      "8000/8000 [==============================] - 1s 113us/step - loss: 0.4817 - acc: 0.7957\n",
      "Epoch 2/100\n",
      "8000/8000 [==============================] - 1s 70us/step - loss: 0.4283 - acc: 0.7960\n",
      "Epoch 3/100\n",
      "8000/8000 [==============================] - 1s 78us/step - loss: 0.4228 - acc: 0.7965\n",
      "Epoch 4/100\n",
      "8000/8000 [==============================] - 1s 81us/step - loss: 0.4182 - acc: 0.8217\n",
      "Epoch 5/100\n",
      "8000/8000 [==============================] - 1s 80us/step - loss: 0.4158 - acc: 0.8284\n",
      "Epoch 6/100\n",
      "8000/8000 [==============================] - 1s 80us/step - loss: 0.4140 - acc: 0.8285\n",
      "Epoch 7/100\n",
      "8000/8000 [==============================] - 1s 78us/step - loss: 0.4133 - acc: 0.8296\n",
      "Epoch 8/100\n",
      "8000/8000 [==============================] - 1s 79us/step - loss: 0.4118 - acc: 0.8326\n",
      "Epoch 9/100\n",
      "8000/8000 [==============================] - 1s 79us/step - loss: 0.4103 - acc: 0.8329\n",
      "Epoch 10/100\n",
      "8000/8000 [==============================] - 1s 79us/step - loss: 0.4096 - acc: 0.8340\n",
      "Epoch 11/100\n",
      "8000/8000 [==============================] - 1s 79us/step - loss: 0.4091 - acc: 0.8337\n",
      "Epoch 12/100\n",
      "8000/8000 [==============================] - 1s 80us/step - loss: 0.4080 - acc: 0.8342\n",
      "Epoch 13/100\n",
      "8000/8000 [==============================] - 1s 80us/step - loss: 0.4072 - acc: 0.8336\n",
      "Epoch 14/100\n",
      "8000/8000 [==============================] - 1s 80us/step - loss: 0.4065 - acc: 0.8354\n",
      "Epoch 15/100\n",
      "8000/8000 [==============================] - 1s 81us/step - loss: 0.4064 - acc: 0.8349\n",
      "Epoch 16/100\n",
      "8000/8000 [==============================] - 1s 81us/step - loss: 0.4062 - acc: 0.8347\n",
      "Epoch 17/100\n",
      "8000/8000 [==============================] - 1s 81us/step - loss: 0.4052 - acc: 0.8339\n",
      "Epoch 18/100\n",
      "8000/8000 [==============================] - 1s 81us/step - loss: 0.4049 - acc: 0.8337\n",
      "Epoch 19/100\n",
      "8000/8000 [==============================] - 1s 81us/step - loss: 0.4049 - acc: 0.8341\n",
      "Epoch 20/100\n",
      "8000/8000 [==============================] - 1s 83us/step - loss: 0.4041 - acc: 0.8356\n",
      "Epoch 21/100\n",
      "8000/8000 [==============================] - 1s 84us/step - loss: 0.4042 - acc: 0.8350\n",
      "Epoch 22/100\n",
      "8000/8000 [==============================] - 1s 84us/step - loss: 0.4037 - acc: 0.8350\n",
      "Epoch 23/100\n",
      "8000/8000 [==============================] - 1s 85us/step - loss: 0.4040 - acc: 0.8361\n",
      "Epoch 24/100\n",
      "8000/8000 [==============================] - 1s 86us/step - loss: 0.4033 - acc: 0.8339\n",
      "Epoch 25/100\n",
      "8000/8000 [==============================] - 1s 82us/step - loss: 0.4031 - acc: 0.8359\n",
      "Epoch 26/100\n",
      "8000/8000 [==============================] - 1s 82us/step - loss: 0.4032 - acc: 0.8341\n",
      "Epoch 27/100\n",
      "8000/8000 [==============================] - 1s 81us/step - loss: 0.4024 - acc: 0.8344\n",
      "Epoch 28/100\n",
      "8000/8000 [==============================] - 1s 83us/step - loss: 0.4031 - acc: 0.8346\n",
      "Epoch 29/100\n",
      "8000/8000 [==============================] - 1s 81us/step - loss: 0.4023 - acc: 0.8331\n",
      "Epoch 30/100\n",
      "8000/8000 [==============================] - 1s 85us/step - loss: 0.4024 - acc: 0.8336\n",
      "Epoch 31/100\n",
      "8000/8000 [==============================] - 1s 88us/step - loss: 0.4014 - acc: 0.8349\n",
      "Epoch 32/100\n",
      "8000/8000 [==============================] - 1s 83us/step - loss: 0.4024 - acc: 0.8329\n",
      "Epoch 33/100\n",
      "8000/8000 [==============================] - 1s 84us/step - loss: 0.4024 - acc: 0.8346\n",
      "Epoch 34/100\n",
      "8000/8000 [==============================] - 1s 86us/step - loss: 0.4017 - acc: 0.8351\n",
      "Epoch 35/100\n",
      "8000/8000 [==============================] - 1s 85us/step - loss: 0.4014 - acc: 0.8335\n",
      "Epoch 36/100\n",
      "8000/8000 [==============================] - 1s 84us/step - loss: 0.4017 - acc: 0.8344\n",
      "Epoch 37/100\n",
      "8000/8000 [==============================] - 1s 84us/step - loss: 0.4014 - acc: 0.8345\n",
      "Epoch 38/100\n",
      "8000/8000 [==============================] - 1s 85us/step - loss: 0.4014 - acc: 0.8341\n",
      "Epoch 39/100\n",
      "8000/8000 [==============================] - 1s 86us/step - loss: 0.4006 - acc: 0.8350\n",
      "Epoch 40/100\n",
      "8000/8000 [==============================] - 1s 84us/step - loss: 0.4013 - acc: 0.8361\n",
      "Epoch 41/100\n",
      "8000/8000 [==============================] - 1s 88us/step - loss: 0.4009 - acc: 0.8347\n",
      "Epoch 42/100\n",
      "8000/8000 [==============================] - 1s 83us/step - loss: 0.4014 - acc: 0.8339\n",
      "Epoch 43/100\n",
      "8000/8000 [==============================] - 1s 97us/step - loss: 0.4009 - acc: 0.8336\n",
      "Epoch 44/100\n",
      "8000/8000 [==============================] - 1s 103us/step - loss: 0.4009 - acc: 0.8331\n",
      "Epoch 45/100\n",
      "8000/8000 [==============================] - 1s 108us/step - loss: 0.4011 - acc: 0.8334\n",
      "Epoch 46/100\n",
      "8000/8000 [==============================] - 1s 93us/step - loss: 0.4012 - acc: 0.8341\n",
      "Epoch 47/100\n",
      "8000/8000 [==============================] - 1s 82us/step - loss: 0.4006 - acc: 0.8334\n",
      "Epoch 48/100\n",
      "8000/8000 [==============================] - 1s 81us/step - loss: 0.4012 - acc: 0.8354\n",
      "Epoch 49/100\n",
      "8000/8000 [==============================] - 1s 81us/step - loss: 0.4005 - acc: 0.8332\n",
      "Epoch 50/100\n",
      "8000/8000 [==============================] - 1s 81us/step - loss: 0.4003 - acc: 0.8346\n",
      "Epoch 51/100\n",
      "8000/8000 [==============================] - 1s 80us/step - loss: 0.4011 - acc: 0.8349\n",
      "Epoch 52/100\n",
      "8000/8000 [==============================] - 1s 87us/step - loss: 0.4010 - acc: 0.8341\n",
      "Epoch 53/100\n",
      "8000/8000 [==============================] - 1s 82us/step - loss: 0.4002 - acc: 0.8327\n",
      "Epoch 54/100\n",
      "8000/8000 [==============================] - 1s 81us/step - loss: 0.4006 - acc: 0.8350\n",
      "Epoch 55/100\n",
      "8000/8000 [==============================] - 1s 86us/step - loss: 0.4004 - acc: 0.8342\n",
      "Epoch 56/100\n",
      "8000/8000 [==============================] - 1s 88us/step - loss: 0.3999 - acc: 0.8346\n",
      "Epoch 57/100\n",
      "8000/8000 [==============================] - 1s 81us/step - loss: 0.3997 - acc: 0.8350\n",
      "Epoch 58/100\n",
      "8000/8000 [==============================] - 1s 108us/step - loss: 0.4000 - acc: 0.8349\n",
      "Epoch 59/100\n",
      "8000/8000 [==============================] - 1s 104us/step - loss: 0.4002 - acc: 0.8351\n",
      "Epoch 60/100\n",
      "8000/8000 [==============================] - 1s 100us/step - loss: 0.4010 - acc: 0.8351\n",
      "Epoch 61/100\n",
      "8000/8000 [==============================] - 1s 90us/step - loss: 0.4003 - acc: 0.8341\n",
      "Epoch 62/100\n",
      "8000/8000 [==============================] - 1s 90us/step - loss: 0.3997 - acc: 0.8365\n",
      "Epoch 63/100\n",
      "8000/8000 [==============================] - 1s 94us/step - loss: 0.4001 - acc: 0.8349\n",
      "Epoch 64/100\n",
      "8000/8000 [==============================] - 1s 92us/step - loss: 0.3998 - acc: 0.8357\n",
      "Epoch 65/100\n",
      "8000/8000 [==============================] - 1s 88us/step - loss: 0.4008 - acc: 0.8342\n",
      "Epoch 66/100\n",
      "8000/8000 [==============================] - 1s 89us/step - loss: 0.4001 - acc: 0.8340\n",
      "Epoch 67/100\n",
      "8000/8000 [==============================] - 1s 89us/step - loss: 0.4002 - acc: 0.8334\n",
      "Epoch 68/100\n",
      "8000/8000 [==============================] - 1s 101us/step - loss: 0.4000 - acc: 0.8344\n",
      "Epoch 69/100\n",
      "8000/8000 [==============================] - 1s 102us/step - loss: 0.3999 - acc: 0.8351\n",
      "Epoch 70/100\n",
      "8000/8000 [==============================] - 1s 97us/step - loss: 0.3998 - acc: 0.8342\n",
      "Epoch 71/100\n",
      "8000/8000 [==============================] - 1s 103us/step - loss: 0.3999 - acc: 0.8354\n",
      "Epoch 72/100\n",
      "8000/8000 [==============================] - 1s 93us/step - loss: 0.4003 - acc: 0.8332\n",
      "Epoch 73/100\n",
      "8000/8000 [==============================] - 1s 92us/step - loss: 0.4003 - acc: 0.8335\n",
      "Epoch 74/100\n",
      "8000/8000 [==============================] - 1s 90us/step - loss: 0.4004 - acc: 0.8331\n",
      "Epoch 75/100\n",
      "8000/8000 [==============================] - 1s 88us/step - loss: 0.3996 - acc: 0.8341\n",
      "Epoch 76/100\n",
      "8000/8000 [==============================] - 1s 88us/step - loss: 0.4001 - acc: 0.8336\n",
      "Epoch 77/100\n",
      "8000/8000 [==============================] - 1s 87us/step - loss: 0.4001 - acc: 0.8337\n",
      "Epoch 78/100\n",
      "8000/8000 [==============================] - 1s 88us/step - loss: 0.3999 - acc: 0.8337\n",
      "Epoch 79/100\n",
      "8000/8000 [==============================] - 1s 90us/step - loss: 0.3997 - acc: 0.8341\n",
      "Epoch 80/100\n",
      "8000/8000 [==============================] - 1s 88us/step - loss: 0.3998 - acc: 0.8347\n",
      "Epoch 81/100\n",
      "8000/8000 [==============================] - 1s 88us/step - loss: 0.4000 - acc: 0.8331\n",
      "Epoch 82/100\n"
     ]
    },
    {
     "name": "stdout",
     "output_type": "stream",
     "text": [
      "8000/8000 [==============================] - 1s 83us/step - loss: 0.4002 - acc: 0.8337\n",
      "Epoch 83/100\n",
      "8000/8000 [==============================] - 1s 84us/step - loss: 0.3998 - acc: 0.8342\n",
      "Epoch 84/100\n",
      "8000/8000 [==============================] - 1s 82us/step - loss: 0.3995 - acc: 0.8352\n",
      "Epoch 85/100\n",
      "8000/8000 [==============================] - 1s 85us/step - loss: 0.3994 - acc: 0.8326\n",
      "Epoch 86/100\n",
      "8000/8000 [==============================] - 1s 85us/step - loss: 0.3997 - acc: 0.8339\n",
      "Epoch 87/100\n",
      "8000/8000 [==============================] - 1s 84us/step - loss: 0.3995 - acc: 0.8347\n",
      "Epoch 88/100\n",
      "8000/8000 [==============================] - 1s 84us/step - loss: 0.3998 - acc: 0.8349\n",
      "Epoch 89/100\n",
      "8000/8000 [==============================] - 1s 84us/step - loss: 0.3996 - acc: 0.8346\n",
      "Epoch 90/100\n",
      "8000/8000 [==============================] - 1s 79us/step - loss: 0.4000 - acc: 0.8354\n",
      "Epoch 91/100\n",
      "8000/8000 [==============================] - 1s 85us/step - loss: 0.3993 - acc: 0.8337\n",
      "Epoch 92/100\n",
      "8000/8000 [==============================] - 1s 80us/step - loss: 0.3993 - acc: 0.8354\n",
      "Epoch 93/100\n",
      "8000/8000 [==============================] - 1s 88us/step - loss: 0.3993 - acc: 0.8364\n",
      "Epoch 94/100\n",
      "8000/8000 [==============================] - 1s 86us/step - loss: 0.4002 - acc: 0.8357\n",
      "Epoch 95/100\n",
      "8000/8000 [==============================] - 1s 86us/step - loss: 0.3991 - acc: 0.8337\n",
      "Epoch 96/100\n",
      "8000/8000 [==============================] - 1s 86us/step - loss: 0.3999 - acc: 0.8344\n",
      "Epoch 97/100\n",
      "8000/8000 [==============================] - 1s 86us/step - loss: 0.3988 - acc: 0.8369\n",
      "Epoch 98/100\n",
      "8000/8000 [==============================] - 1s 84us/step - loss: 0.3998 - acc: 0.8342\n",
      "Epoch 99/100\n",
      "8000/8000 [==============================] - 1s 84us/step - loss: 0.3997 - acc: 0.8351\n",
      "Epoch 100/100\n",
      "8000/8000 [==============================] - 1s 86us/step - loss: 0.3995 - acc: 0.8361\n"
     ]
    },
    {
     "data": {
      "text/plain": [
       "<keras.callbacks.History at 0x115d2c53d68>"
      ]
     },
     "execution_count": 8,
     "metadata": {},
     "output_type": "execute_result"
    }
   ],
   "source": [
    "classifier.compile(optimizer = 'adam', loss = 'binary_crossentropy', metrics = ['accuracy'])\n",
    "classifier.fit(X_train, y_train, batch_size = 10, nb_epoch = 100)"
   ]
  },
  {
   "cell_type": "markdown",
   "metadata": {},
   "source": [
    "# Predicting the Test set results.\n",
    "y_pred contains the probabilities of clients leaving the bank, but we weant binary values yes or no (1 or 0) so we set the threshold equal to 0.5 (50%)."
   ]
  },
  {
   "cell_type": "code",
   "execution_count": 9,
   "metadata": {},
   "outputs": [],
   "source": [
    "y_pred = classifier.predict(X_test)\n",
    "y_pred = (y_pred > 0.5)"
   ]
  },
  {
   "cell_type": "markdown",
   "metadata": {},
   "source": [
    "# Making the Confusion Matrix and getting the accuracy of the ANN."
   ]
  },
  {
   "cell_type": "code",
   "execution_count": 10,
   "metadata": {},
   "outputs": [
    {
     "name": "stdout",
     "output_type": "stream",
     "text": [
      "[[1546   49]\n",
      " [ 269  136]]\n",
      "Accuracy: 0.841\n"
     ]
    }
   ],
   "source": [
    "print(confusion_matrix(y_test, y_pred))\n",
    "print('Accuracy: {}'.format(accuracy_score(y_test, y_pred)))"
   ]
  }
 ],
 "metadata": {
  "kernelspec": {
   "display_name": "Python 3",
   "language": "python",
   "name": "python3"
  },
  "language_info": {
   "codemirror_mode": {
    "name": "ipython",
    "version": 3
   },
   "file_extension": ".py",
   "mimetype": "text/x-python",
   "name": "python",
   "nbconvert_exporter": "python",
   "pygments_lexer": "ipython3",
   "version": "3.6.5"
  }
 },
 "nbformat": 4,
 "nbformat_minor": 2
}
